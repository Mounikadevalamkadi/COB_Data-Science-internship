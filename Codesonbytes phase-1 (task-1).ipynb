{
 "cells": [
  {
   "cell_type": "code",
   "execution_count": 2,
   "id": "59c17352",
   "metadata": {},
   "outputs": [
    {
     "name": "stdout",
     "output_type": "stream",
     "text": [
      "                                 Category  \\\n",
      "0                                 History   \n",
      "1              Entertainment: Video Games   \n",
      "2                    Science &amp; Nature   \n",
      "3                      Science: Computers   \n",
      "4               Entertainment: Television   \n",
      "5  Entertainment: Musicals &amp; Theatres   \n",
      "6                               Geography   \n",
      "7                       General Knowledge   \n",
      "8              Entertainment: Video Games   \n",
      "9                     Entertainment: Film   \n",
      "\n",
      "                                            Question       Correct Answer  \\\n",
      "0  Which of the following Assyrian kings did NOT ...     Shamshi-Adad III   \n",
      "1  In Forza Motorsport 6, which of these track-ex...  Aston Martin Vulcan   \n",
      "2  Human cells typically have how many copies of ...                    2   \n",
      "3  According to DeMorgan&#039;s Theorem, the Bool...    A&#039; + B&#039;   \n",
      "4  Which boxing personality was one of the presen...          Frank Bruno   \n",
      "5  Who wrote the lyrics for Leonard Bernstein&#03...     Stephen Sondheim   \n",
      "6  The Japanese district Akihabara is also known ...        Electric Town   \n",
      "7  What does the &quot;G&quot; mean in &quot;G-Ma...           Government   \n",
      "8          What year was Super Mario Bros. released?                 1985   \n",
      "9  Which actress portrayed Dr. Grace Augustine in...     Sigourney Weaver   \n",
      "\n",
      "                                   Incorrect Answers  \n",
      "0   [Shalmaneser V, Esharhaddon, Ashur-nasir-pal II]  \n",
      "1         [Ferrari FXX-K, McLaren P1 GTR, Lotus E23]  \n",
      "2                                          [1, 4, 3]  \n",
      "3  [A&#039;B + B&#039;A, A&#039;B&#039;, AB&#039;...  \n",
      "4          [Henry Cooper, Muhammad Ali, Joe Fraiser]  \n",
      "5      [Himself, Oscar Hammerstein, Richard Rodgers]  \n",
      "6        [Moon Walk River, Otaku Central , Big Eyes]  \n",
      "7                           [Going, Ghost, Geronimo]  \n",
      "8                                 [1983, 1987, 1986]  \n",
      "9  [Jessica Chastain, Melissa Beckett, Alyssa Mon...  \n"
     ]
    }
   ],
   "source": [
    "import pandas as pd\n",
    "import requests\n",
    "\n",
    "# Open Trivia Database API endpoint for fetching general knowledge questions\n",
    "api_url = 'https://opentdb.com/api.php?amount=10&type=multiple'\n",
    "\n",
    "# Fetch data from the API\n",
    "response = requests.get(api_url)\n",
    "data = response.json()\n",
    "\n",
    "# Extract relevant information from the API response\n",
    "questions_data = {\n",
    "    'Category': [],\n",
    "    'Question': [],\n",
    "    'Correct Answer': [],\n",
    "    'Incorrect Answers': [],\n",
    "}\n",
    "\n",
    "for question in data['results']:\n",
    "    questions_data['Category'].append(question['category'])\n",
    "    questions_data['Question'].append(question['question'])\n",
    "    questions_data['Correct Answer'].append(question['correct_answer'])\n",
    "    questions_data['Incorrect Answers'].append(question['incorrect_answers'])\n",
    "\n",
    "# Create a DataFrame using Pandas\n",
    "df = pd.DataFrame(questions_data)\n",
    "\n",
    "# Save the DataFrame to a CSV file\n",
    "df.to_csv('trivia_questions.csv')\n",
    "\n",
    "# Display the DataFrame\n",
    "print(df)\n"
   ]
  },
  {
   "cell_type": "code",
   "execution_count": null,
   "id": "8d0ead8c",
   "metadata": {},
   "outputs": [],
   "source": []
  }
 ],
 "metadata": {
  "kernelspec": {
   "display_name": "Python 3 (ipykernel)",
   "language": "python",
   "name": "python3"
  },
  "language_info": {
   "codemirror_mode": {
    "name": "ipython",
    "version": 3
   },
   "file_extension": ".py",
   "mimetype": "text/x-python",
   "name": "python",
   "nbconvert_exporter": "python",
   "pygments_lexer": "ipython3",
   "version": "3.11.5"
  }
 },
 "nbformat": 4,
 "nbformat_minor": 5
}
